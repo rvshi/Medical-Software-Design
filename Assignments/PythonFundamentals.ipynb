{
 "cells": [
  {
   "cell_type": "markdown",
   "metadata": {},
   "source": [
    "# Python Fundamentals\n",
    "Yay, you have achieved your first win... opening this Jupyer notebook!\n",
    "\n",
    "## Markdown\n",
    "This section of text is written in Markdown, which interprets some syntax to format the text.  If you double click on this cell, you can see how the formatting has been achieved.\n",
    "\n",
    "Markdown will let you create hierarchical headings, *emphasized text*, **bold text**, and can even render $\\LaTeX$ formatting to render equations like $y = x^2$ easily.\n",
    "\n",
    "### TASK\n",
    "Double-click this cell, and write a line in Markdown that contains:\n",
    "* A subheading named `I did this!`\n",
    "* Your Name in **bold**\n",
    "* The Pythagoren theorem in LaTeX, in terms of the classic variables, $a$, $b$ and $c$.\n",
    "* Write a short codeblock (hint: triple-quotes delineate the start and end of the block) for printing `Hello World`.\n",
    "\n",
    "### I did this!\n",
    "**Harvey Shi**\n",
    "$a^2 + b^2 = c^2$\n",
    "\n",
    "```\n",
    "print('Hello World')\n",
    "```\n",
    "\n",
    "You will need to hit `Ctrl-Enter` to execute the cell (in this case, interpreting and rendering the Markdown output)."
   ]
  },
  {
   "cell_type": "markdown",
   "metadata": {},
   "source": [
    "## Python Datatypes\n",
    "Python will automatically determine the data type that you are assigning to a variable.  Here is an example of several types of data that Python automatically type casts.  Note the use of the `whos` command to inspect active variable workspace.  Also note that to have the active Python kernel actually store these variables, you will need to execute the cell below; this notebook has saved the output of me running it, but does not automatically execute the code when re-opened."
   ]
  },
  {
   "cell_type": "code",
   "execution_count": 1,
   "metadata": {},
   "outputs": [
    {
     "name": "stdout",
     "output_type": "stream",
     "text": [
      "Variable   Type     Data/Info\n",
      "-----------------------------\n",
      "a          int      5\n",
      "b          float    1.2\n",
      "c          str      hello\n",
      "isHappy    bool     True\n"
     ]
    }
   ],
   "source": [
    "a = 5\n",
    "b = 1.2\n",
    "c = 'hello'\n",
    "isHappy = True\n",
    "%whos"
   ]
  },
  {
   "cell_type": "markdown",
   "metadata": {},
   "source": [
    "### TASK\n",
    "What do you expect the`Type` of `d` to be in the cell below?  Execute it to confirm your expectation.\n",
    "\n",
    "I expect `d` to be a **float** since it is the result of an int added to a float."
   ]
  },
  {
   "cell_type": "code",
   "execution_count": 2,
   "metadata": {},
   "outputs": [
    {
     "name": "stdout",
     "output_type": "stream",
     "text": [
      "Variable   Type     Data/Info\n",
      "-----------------------------\n",
      "a          int      5\n",
      "b          float    1.2\n",
      "c          str      hello\n",
      "d          float    6.2\n",
      "isHappy    bool     True\n"
     ]
    }
   ],
   "source": [
    "d = a + b\n",
    "%whos"
   ]
  },
  {
   "cell_type": "markdown",
   "metadata": {},
   "source": [
    "All variables in Python are actually *objects*.  We will cover objects in more details soon, but for now you can think of objects as variables that come with associated methods that can act on their value.  When learning Python, it can be tricky to take advantage of all of these built-in methods, but interactive prompting of available methods can help.\n",
    "\n",
    "In the cell below type `d.` (note the `.`) followed by `Tab`.  You should be promoted with a set of methods that can be used to manipulate the value of `d`."
   ]
  },
  {
   "cell_type": "code",
   "execution_count": 3,
   "metadata": {},
   "outputs": [
    {
     "ename": "SyntaxError",
     "evalue": "invalid syntax (<ipython-input-3-5b9c6730bf04>, line 2)",
     "output_type": "error",
     "traceback": [
      "\u001b[0;36m  File \u001b[0;32m\"<ipython-input-3-5b9c6730bf04>\"\u001b[0;36m, line \u001b[0;32m2\u001b[0m\n\u001b[0;31m    d.\u001b[0m\n\u001b[0m      ^\u001b[0m\n\u001b[0;31mSyntaxError\u001b[0m\u001b[0;31m:\u001b[0m invalid syntax\n"
     ]
    }
   ],
   "source": [
    "# type `d.` and hit Tab to see all of the methods that are available with this float object\n",
    "d."
   ]
  },
  {
   "cell_type": "markdown",
   "metadata": {},
   "source": [
    "Methods (and functions) are called in python as `method()` (note the parentheses; this is where input variables can be passed).  One method that `d` should have is called `is_integer()`.  \n",
    "\n",
    "### TASK\n",
    "Create a new cell below this (`Insert -> Insert Cell Below`) and assign the output of `d.is_integer()` to a new variable `is_d_an_int`.  What type is `is_d_an_int`?\n",
    "\n",
    "`is_d_an_int` should be a **boolean**"
   ]
  },
  {
   "cell_type": "code",
   "execution_count": null,
   "metadata": {},
   "outputs": [],
   "source": [
    "is_d_an_int = d.is_integer()"
   ]
  },
  {
   "cell_type": "markdown",
   "metadata": {},
   "source": [
    "Strings have an impressive number of built-in methods.  Create a new cell below this to explore these methods, demonstrating--at minimum--what `.capitalize()`, `.count()`, `.join()`, and `.startswith()` do."
   ]
  },
  {
   "cell_type": "code",
   "execution_count": 9,
   "metadata": {},
   "outputs": [
    {
     "name": "stdout",
     "output_type": "stream",
     "text": [
      "Have an impressive number\n",
      "2\n",
      "h*a*v*e* *a*n* *i*m*p*r*e*s*s*i*v*e* *n*u*m*b*e*r\n",
      "False\n",
      "25\n"
     ]
    }
   ],
   "source": [
    "words = 'have an impressive number'\n",
    "print(words.capitalize())     # capitalize the first letter of the string\n",
    "print(words.count('a'))       # occurrences of the letter a\n",
    "print(\"*\".join(words))        # inserts arbitrary string in between each character\n",
    "print(words.startswith('an')) # check what the string starts with\n",
    "print(len(words))             # length of string"
   ]
  },
  {
   "cell_type": "markdown",
   "metadata": {},
   "source": [
    "## Tuples and Lists\n",
    "Python has two built-in datatypes to store collections of data (it actually has many more, but we are staring with these two ubiquitous types)."
   ]
  },
  {
   "cell_type": "code",
   "execution_count": 10,
   "metadata": {},
   "outputs": [
    {
     "data": {
      "text/plain": [
       "1"
      ]
     },
     "execution_count": 10,
     "metadata": {},
     "output_type": "execute_result"
    }
   ],
   "source": [
    "my_tuple = (1, 2, 3)\n",
    "my_tuple[0]"
   ]
  },
  {
   "cell_type": "markdown",
   "metadata": {},
   "source": [
    "**Notice that the first index of a list (or tuple or any array) is 0 in Python, not 1!!**  This is based on conventions from C (and many other languages); Matlab broke from that convention by starting indexing at 1.  Additionally, you access items of a tuple (and other datatypes using [], not () like Matlab uses).  () is used to call functions and methods."
   ]
  },
  {
   "cell_type": "markdown",
   "metadata": {},
   "source": [
    "Tuples are immutable (i.e., we can not reassign values to elements of the tuple once it is created.  Demonstrate this by trying to execute the cell below."
   ]
  },
  {
   "cell_type": "code",
   "execution_count": 11,
   "metadata": {},
   "outputs": [
    {
     "ename": "TypeError",
     "evalue": "'tuple' object does not support item assignment",
     "output_type": "error",
     "traceback": [
      "\u001b[0;31m---------------------------------------------------------------------------\u001b[0m",
      "\u001b[0;31mTypeError\u001b[0m                                 Traceback (most recent call last)",
      "\u001b[0;32m<ipython-input-11-9c3f8a464473>\u001b[0m in \u001b[0;36m<module>\u001b[0;34m()\u001b[0m\n\u001b[0;32m----> 1\u001b[0;31m \u001b[0mmy_tuple\u001b[0m\u001b[0;34m[\u001b[0m\u001b[0;36m1\u001b[0m\u001b[0;34m]\u001b[0m \u001b[0;34m=\u001b[0m \u001b[0;36m5\u001b[0m\u001b[0;34m\u001b[0m\u001b[0m\n\u001b[0m",
      "\u001b[0;31mTypeError\u001b[0m: 'tuple' object does not support item assignment"
     ]
    }
   ],
   "source": [
    "my_tuple[1] = 5"
   ]
  },
  {
   "cell_type": "markdown",
   "metadata": {},
   "source": [
    "### TASK\n",
    "Why would having an immutable datatype be useful?\n",
    "\n",
    "For storing constant data like physical constants."
   ]
  },
  {
   "cell_type": "markdown",
   "metadata": {},
   "source": [
    "You can also nest tuples within tuples... and you can mix datatypes!  Execute the cell below to see."
   ]
  },
  {
   "cell_type": "code",
   "execution_count": 5,
   "metadata": {},
   "outputs": [
    {
     "name": "stdout",
     "output_type": "stream",
     "text": [
      "((1, 2), (3, 4), ('a', 4))\n"
     ]
    }
   ],
   "source": [
    "my_nested_tuple = ((1, 2), (3, 4), ('a', 4))\n",
    "print(my_nested_tuple)"
   ]
  },
  {
   "cell_type": "markdown",
   "metadata": {},
   "source": [
    "Lists are like tuples, but mutable."
   ]
  },
  {
   "cell_type": "code",
   "execution_count": 6,
   "metadata": {},
   "outputs": [
    {
     "name": "stdout",
     "output_type": "stream",
     "text": [
      "[1, 'a', 'hello', True]\n"
     ]
    }
   ],
   "source": [
    "my_list = [1, 'a', 'hello', True]\n",
    "print(my_list)"
   ]
  },
  {
   "cell_type": "markdown",
   "metadata": {},
   "source": [
    "Tuples and lists, like variables, have built-in methods since they are also objects!  In the cell below, demonstrate what the list methods `.append()`, `.pop()`, `.count()`, `.reverse()` and `.sort()` perform.  (Please feel free to explore all of them!)"
   ]
  },
  {
   "cell_type": "code",
   "execution_count": 12,
   "metadata": {},
   "outputs": [
    {
     "name": "stdout",
     "output_type": "stream",
     "text": [
      "[1, 'a', 'hello', True, 'new var']\n",
      "[1, 'a', True, 'new var']\n",
      "4\n",
      "['new var', True, 'a', 1]\n",
      "[2, 3, 4, 5]\n"
     ]
    }
   ],
   "source": [
    "my_list = [1, 'a', 'hello', True]\n",
    "\n",
    "my_list.append('new var') # adds a new element\n",
    "print(my_list)\n",
    "\n",
    "my_list.pop(2) # removes the 3rd element in the list\n",
    "print(my_list)\n",
    "\n",
    "repeat_list = [2,3,4,1,4,5,5,2,1,1,1]\n",
    "print(repeat_list.count(1)) # returns the number of times 1 appears in the list\n",
    "\n",
    "my_list.reverse() # flips the order of the list\n",
    "print(my_list)\n",
    "\n",
    "num_list = [5,2,3,4] # have to sort list with the same data type\n",
    "num_list.sort()\n",
    "print(num_list)"
   ]
  },
  {
   "cell_type": "markdown",
   "metadata": {},
   "source": [
    "## Loops\n",
    "### `for` loops\n",
    "Unlike Matlab, which likes to iterate on a specified range of numbers, Python can directly iterate on the content of a tuple, list, etc.  This is what a Matlab loop might look like:\n",
    "```\n",
    "my_array = (1, 2, 3, 4, 5);\n",
    "for i = 1:length(my_array),\n",
    "    disp(my_array(i));\n",
    "end\n",
    "```\n",
    "Python can more directly access the content of `my_array`; see this in action in the code below."
   ]
  },
  {
   "cell_type": "code",
   "execution_count": 13,
   "metadata": {},
   "outputs": [
    {
     "name": "stdout",
     "output_type": "stream",
     "text": [
      "1\n",
      "2\n",
      "3\n",
      "4\n",
      "5\n"
     ]
    }
   ],
   "source": [
    "my_array = [1, 2, 3, 4, 5]  # note that lists in Python are created with []\n",
    "for i in my_array:  # the value of i is assigned iteratively from my_array\n",
    "    print(i)"
   ]
  },
  {
   "cell_type": "markdown",
   "metadata": {},
   "source": [
    "Sometimes you want to carry along a numerical index that corresponds to which iteration you are on in the loop.  To do that, you can use the `enumerate` command:"
   ]
  },
  {
   "cell_type": "code",
   "execution_count": 14,
   "metadata": {},
   "outputs": [
    {
     "name": "stdout",
     "output_type": "stream",
     "text": [
      "The value is 1.\n",
      "The index is 0.\n",
      "The Matlab-equivalent of this would have been using my_array[n] to get 1.\n",
      "The value is 2.\n",
      "The index is 1.\n",
      "The Matlab-equivalent of this would have been using my_array[n] to get 2.\n",
      "The value is 3.\n",
      "The index is 2.\n",
      "The Matlab-equivalent of this would have been using my_array[n] to get 3.\n",
      "The value is 4.\n",
      "The index is 3.\n",
      "The Matlab-equivalent of this would have been using my_array[n] to get 4.\n",
      "The value is 5.\n",
      "The index is 4.\n",
      "The Matlab-equivalent of this would have been using my_array[n] to get 5.\n"
     ]
    }
   ],
   "source": [
    "for n, i in enumerate(my_array): # note the 2nd argument is the index\n",
    "    print('The value is {}.'.format(i))\n",
    "    print('The index is {}.'.format(n))\n",
    "    print('The Matlab-equivalent of this would have been using my_array[n] to get {}.'.format(my_array[n]))"
   ]
  },
  {
   "cell_type": "markdown",
   "metadata": {},
   "source": []
  }
 ],
 "metadata": {
  "kernelspec": {
   "display_name": "Python 3",
   "language": "python",
   "name": "python3"
  },
  "language_info": {
   "codemirror_mode": {
    "name": "ipython",
    "version": 3
   },
   "file_extension": ".py",
   "mimetype": "text/x-python",
   "name": "python",
   "nbconvert_exporter": "python",
   "pygments_lexer": "ipython3",
   "version": "3.6.4"
  }
 },
 "nbformat": 4,
 "nbformat_minor": 2
}
